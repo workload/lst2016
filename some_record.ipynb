{
 "cells": [
  {
   "cell_type": "code",
   "execution_count": 42,
   "metadata": {
    "collapsed": false
   },
   "outputs": [
    {
     "name": "stdout",
     "output_type": "stream",
     "text": [
      "大幅度看分地方地方\n"
     ]
    }
   ],
   "source": [
    "import re\n",
    "text = \"\"\"<p style=\"height: 0px; opacity: 0; display: none;\">\n",
    "\t\t\t大幅度看分地方地方\n",
    "\t\t</p>\"\"\"\n",
    "reg = re.compile(r'none;\">\\n\\t{1,10}(\\D{1,60})\\n\\t{1,10}</p>')\n",
    "text2 = re.findall(reg,text)\n",
    "print(text2[0])"
   ]
  },
  {
   "cell_type": "code",
   "execution_count": 6,
   "metadata": {
    "collapsed": true
   },
   "outputs": [],
   "source": [
    "a = [\n",
    "    ['sds', 'dsd', 'df'],\n",
    "    ['data/asset/data/weibo.json', 'data/asset/data/weibo.json', 'data/asset/data/weibo.json'],\n",
    "    ['data/asset/data/weibo.json', 'data/asset/data/weibo.json', 'data/asset/data/weibo.json'],\n",
    "    ['data/asset/data/weibo.json', 'data/asset/data/weibo.json', 'data/asset/data/weibo.json'],\n",
    "    ['data/asset/data/weibo.json', 'data/asset/data/weibo.json', 'data/asset/data/weibo.json'],\n",
    "    ['data/asset/data/weibo.json', 'data/asset/data/weibo.json', 'data/asset/data/weibo.json']\n",
    "]"
   ]
  },
  {
   "cell_type": "code",
   "execution_count": 10,
   "metadata": {
    "collapsed": false
   },
   "outputs": [
    {
     "data": {
      "text/plain": [
       "'data/asset/data/weibo.json'"
      ]
     },
     "execution_count": 10,
     "metadata": {},
     "output_type": "execute_result"
    }
   ],
   "source": [
    "a[1][1]"
   ]
  },
  {
   "cell_type": "code",
   "execution_count": 5,
   "metadata": {
    "collapsed": false
   },
   "outputs": [
    {
     "name": "stdout",
     "output_type": "stream",
     "text": [
      "170\n"
     ]
    }
   ],
   "source": [
    "class LocaDiv(object):    \n",
    "    def __init__(self,loc_all):\n",
    "        self.loc_all = loc_all\n",
    "     \n",
    "    def lat_all(self):    \n",
    "        lat_sw = float(self.loc_all.split(',')[0])\n",
    "        lat_ne = float(self.loc_all.split(',')[2])\n",
    "        lat_list = [str(lat_ne)]\n",
    "        while lat_ne-lat_sw >= 0:\n",
    "            m = lat_ne - 0.03\n",
    "            lat_ne = lat_ne - 0.03\n",
    "            lat_list.append('%.2f' % m)\n",
    "        return sorted(lat_list)\n",
    "    \n",
    "    def lng_all(self):\n",
    "        lng_sw = float(self.loc_all.split(',')[1])\n",
    "        lng_ne = float(self.loc_all.split(',')[3])\n",
    "        lng_list = [str(lng_ne)]\n",
    "        while lng_ne-lng_sw >= 0:\n",
    "            m = lng_ne - 0.03\n",
    "            lng_ne = lng_ne - 0.03\n",
    "            lng_list.append('%.2f' % m)\n",
    "        return sorted(lng_list)\n",
    "    \n",
    "    def ls_com(self):\n",
    "        l1 = self.lat_all()\n",
    "        l2 = self.lng_all()\n",
    "        ab_list = []\n",
    "        for i in range(0,len(l1)):\n",
    "            a = str(l1[i])\n",
    "            for i2 in range(0,len(l2)):\n",
    "                b = str(l2[i2])\n",
    "                ab = a+','+b\n",
    "                ab_list.append(ab)\n",
    "        return ab_list\n",
    "    \n",
    "    def ls_row(self):\n",
    "        l1 = self.lat_all()\n",
    "        l2 = self.lng_all()        \n",
    "        ls_com_v = self.ls_com()\n",
    "        ls = []\n",
    "        for n in range(0,len(l1)-1):\n",
    "            for i in range(len(l2)*n,len(l2)*(n+1)-1):\n",
    "                a = ls_com_v[i]\n",
    "                b = ls_com_v[i+len(l2)+1]\n",
    "                ab = a+','+b\n",
    "                ls.append(ab)\n",
    "        return ls    \n",
    "    \n",
    "if __name__ == '__main__':  \n",
    "    loc = LocaDiv('39.79,116.13,40.07,116.62')\n",
    "    print len(loc.ls_row())"
   ]
  },
  {
   "cell_type": "code",
   "execution_count": 11,
   "metadata": {
    "collapsed": false
   },
   "outputs": [
    {
     "data": {
      "text/html": [
       "<div>\n",
       "<table border=\"1\" class=\"dataframe\">\n",
       "  <thead>\n",
       "    <tr style=\"text-align: right;\">\n",
       "      <th></th>\n",
       "      <th>col_a</th>\n",
       "      <th>col_b</th>\n",
       "    </tr>\n",
       "  </thead>\n",
       "  <tbody>\n",
       "    <tr>\n",
       "      <th>0</th>\n",
       "      <td>ast1</td>\n",
       "      <td>[text1, text2, text3]</td>\n",
       "    </tr>\n",
       "    <tr>\n",
       "      <th>1</th>\n",
       "      <td>ast2</td>\n",
       "      <td>[mext1, mext2, mext3]</td>\n",
       "    </tr>\n",
       "    <tr>\n",
       "      <th>2</th>\n",
       "      <td>ast3</td>\n",
       "      <td>[cext1, cext2]</td>\n",
       "    </tr>\n",
       "  </tbody>\n",
       "</table>\n",
       "</div>"
      ],
      "text/plain": [
       "  col_a                  col_b\n",
       "0  ast1  [text1, text2, text3]\n",
       "1  ast2  [mext1, mext2, mext3]\n",
       "2  ast3         [cext1, cext2]"
      ]
     },
     "execution_count": 11,
     "metadata": {},
     "output_type": "execute_result"
    }
   ],
   "source": [
    "import pandas as pd\n",
    "\n",
    "df = pd.DataFrame({'col_a':['ast1','ast2','ast3'],'col_b':[['text1','text2','text3'],['mext1','mext2','mext3'],['cext1','cext2']]})\n",
    "df"
   ]
  },
  {
   "cell_type": "code",
   "execution_count": 24,
   "metadata": {
    "collapsed": false
   },
   "outputs": [
    {
     "data": {
      "text/html": [
       "<div>\n",
       "<table border=\"1\" class=\"dataframe\">\n",
       "  <thead>\n",
       "    <tr style=\"text-align: right;\">\n",
       "      <th></th>\n",
       "      <th>col_a</th>\n",
       "      <th>col_b</th>\n",
       "    </tr>\n",
       "  </thead>\n",
       "  <tbody>\n",
       "    <tr>\n",
       "      <th>0</th>\n",
       "      <td>ast1</td>\n",
       "      <td>(text1, text2)</td>\n",
       "    </tr>\n",
       "    <tr>\n",
       "      <th>1</th>\n",
       "      <td>ast1</td>\n",
       "      <td>(text1, text3)</td>\n",
       "    </tr>\n",
       "    <tr>\n",
       "      <th>2</th>\n",
       "      <td>ast1</td>\n",
       "      <td>(text2, text3)</td>\n",
       "    </tr>\n",
       "    <tr>\n",
       "      <th>0</th>\n",
       "      <td>ast2</td>\n",
       "      <td>(mext1, mext2)</td>\n",
       "    </tr>\n",
       "    <tr>\n",
       "      <th>1</th>\n",
       "      <td>ast2</td>\n",
       "      <td>(mext1, mext3)</td>\n",
       "    </tr>\n",
       "    <tr>\n",
       "      <th>2</th>\n",
       "      <td>ast2</td>\n",
       "      <td>(mext2, mext3)</td>\n",
       "    </tr>\n",
       "    <tr>\n",
       "      <th>0</th>\n",
       "      <td>ast3</td>\n",
       "      <td>(cext1, cext2)</td>\n",
       "    </tr>\n",
       "  </tbody>\n",
       "</table>\n",
       "</div>"
      ],
      "text/plain": [
       "  col_a           col_b\n",
       "0  ast1  (text1, text2)\n",
       "1  ast1  (text1, text3)\n",
       "2  ast1  (text2, text3)\n",
       "0  ast2  (mext1, mext2)\n",
       "1  ast2  (mext1, mext3)\n",
       "2  ast2  (mext2, mext3)\n",
       "0  ast3  (cext1, cext2)"
      ]
     },
     "execution_count": 24,
     "metadata": {},
     "output_type": "execute_result"
    }
   ],
   "source": [
    "from itertools import combinations\n",
    "df.groupby('col_a')['col_b'].apply(lambda x: pd.Series(list(combinations(x.iloc[0], 2)))).reset_index(level = 0)"
   ]
  },
  {
   "cell_type": "code",
   "execution_count": 27,
   "metadata": {
    "collapsed": false
   },
   "outputs": [
    {
     "data": {
      "text/html": [
       "<div>\n",
       "<table border=\"1\" class=\"dataframe\">\n",
       "  <thead>\n",
       "    <tr style=\"text-align: right;\">\n",
       "      <th></th>\n",
       "      <th>col_a</th>\n",
       "      <th>level_1</th>\n",
       "      <th>col_b</th>\n",
       "    </tr>\n",
       "  </thead>\n",
       "  <tbody>\n",
       "    <tr>\n",
       "      <th>0</th>\n",
       "      <td>ast1</td>\n",
       "      <td>0</td>\n",
       "      <td>(text1, text2)</td>\n",
       "    </tr>\n",
       "    <tr>\n",
       "      <th>1</th>\n",
       "      <td>ast1</td>\n",
       "      <td>1</td>\n",
       "      <td>(text1, text3)</td>\n",
       "    </tr>\n",
       "    <tr>\n",
       "      <th>2</th>\n",
       "      <td>ast1</td>\n",
       "      <td>2</td>\n",
       "      <td>(text2, text3)</td>\n",
       "    </tr>\n",
       "    <tr>\n",
       "      <th>3</th>\n",
       "      <td>ast2</td>\n",
       "      <td>0</td>\n",
       "      <td>(mext1, mext2)</td>\n",
       "    </tr>\n",
       "    <tr>\n",
       "      <th>4</th>\n",
       "      <td>ast2</td>\n",
       "      <td>1</td>\n",
       "      <td>(mext1, mext3)</td>\n",
       "    </tr>\n",
       "    <tr>\n",
       "      <th>5</th>\n",
       "      <td>ast2</td>\n",
       "      <td>2</td>\n",
       "      <td>(mext2, mext3)</td>\n",
       "    </tr>\n",
       "    <tr>\n",
       "      <th>6</th>\n",
       "      <td>ast3</td>\n",
       "      <td>0</td>\n",
       "      <td>(cext1, cext2)</td>\n",
       "    </tr>\n",
       "  </tbody>\n",
       "</table>\n",
       "</div>"
      ],
      "text/plain": [
       "  col_a  level_1           col_b\n",
       "0  ast1        0  (text1, text2)\n",
       "1  ast1        1  (text1, text3)\n",
       "2  ast1        2  (text2, text3)\n",
       "3  ast2        0  (mext1, mext2)\n",
       "4  ast2        1  (mext1, mext3)\n",
       "5  ast2        2  (mext2, mext3)\n",
       "6  ast3        0  (cext1, cext2)"
      ]
     },
     "execution_count": 27,
     "metadata": {},
     "output_type": "execute_result"
    }
   ],
   "source": [
    "from itertools import combinations\n",
    "df.groupby('col_a')['col_b'].apply(lambda x: pd.Series(list(combinations(x.iloc[0], 2)))).reset_index()"
   ]
  },
  {
   "cell_type": "code",
   "execution_count": 16,
   "metadata": {
    "collapsed": false
   },
   "outputs": [
    {
     "data": {
      "text/html": [
       "<div>\n",
       "<table border=\"1\" class=\"dataframe\">\n",
       "  <thead>\n",
       "    <tr style=\"text-align: right;\">\n",
       "      <th></th>\n",
       "      <th>col_a</th>\n",
       "      <th>col_b_1</th>\n",
       "    </tr>\n",
       "  </thead>\n",
       "  <tbody>\n",
       "    <tr>\n",
       "      <th>0</th>\n",
       "      <td>ast1</td>\n",
       "      <td>(text1, text2)</td>\n",
       "    </tr>\n",
       "    <tr>\n",
       "      <th>1</th>\n",
       "      <td>ast1</td>\n",
       "      <td>(text1, text3)</td>\n",
       "    </tr>\n",
       "    <tr>\n",
       "      <th>2</th>\n",
       "      <td>ast1</td>\n",
       "      <td>(text2, text3)</td>\n",
       "    </tr>\n",
       "    <tr>\n",
       "      <th>3</th>\n",
       "      <td>ast2</td>\n",
       "      <td>(mext1, mext2)</td>\n",
       "    </tr>\n",
       "    <tr>\n",
       "      <th>4</th>\n",
       "      <td>ast2</td>\n",
       "      <td>(mext1, mext3)</td>\n",
       "    </tr>\n",
       "    <tr>\n",
       "      <th>5</th>\n",
       "      <td>ast2</td>\n",
       "      <td>(mext2, mext3)</td>\n",
       "    </tr>\n",
       "    <tr>\n",
       "      <th>6</th>\n",
       "      <td>ast3</td>\n",
       "      <td>(cext1, cext2)</td>\n",
       "    </tr>\n",
       "  </tbody>\n",
       "</table>\n",
       "</div>"
      ],
      "text/plain": [
       "  col_a         col_b_1\n",
       "0  ast1  (text1, text2)\n",
       "1  ast1  (text1, text3)\n",
       "2  ast1  (text2, text3)\n",
       "3  ast2  (mext1, mext2)\n",
       "4  ast2  (mext1, mext3)\n",
       "5  ast2  (mext2, mext3)\n",
       "6  ast3  (cext1, cext2)"
      ]
     },
     "execution_count": 16,
     "metadata": {},
     "output_type": "execute_result"
    }
   ],
   "source": [
    "import itertools\n",
    "series = df[\"col_b\"].apply(lambda x: pd.Series(list(itertools.combinations(x,2)))).stack()\n",
    "\n",
    "series.name = \"col_b_1\"\n",
    "result = df.merge(pd.DataFrame(series).reset_index(),\n",
    "    left_index=True,\n",
    "    right_on=\"level_0\")[[\"col_a\",\"col_b_1\"]]\n",
    "result"
   ]
  },
  {
   "cell_type": "code",
   "execution_count": 12,
   "metadata": {
    "collapsed": true
   },
   "outputs": [],
   "source": [
    "import itertools\n",
    "series = df[\"col_b\"].apply(lambda x: \\\n",
    "    pd.Series(list(itertools.combinations(x,2)))).stack()"
   ]
  },
  {
   "cell_type": "code",
   "execution_count": 13,
   "metadata": {
    "collapsed": true
   },
   "outputs": [],
   "source": [
    "series.name = \"col_b_1\"\n",
    "result = df.merge(pd.DataFrame(series).reset_index(),\n",
    "    left_index=True,\n",
    "    right_on=\"level_0\")[[\"col_a\",\"col_b_1\"]]"
   ]
  },
  {
   "cell_type": "code",
   "execution_count": 14,
   "metadata": {
    "collapsed": false
   },
   "outputs": [
    {
     "data": {
      "text/html": [
       "<div>\n",
       "<table border=\"1\" class=\"dataframe\">\n",
       "  <thead>\n",
       "    <tr style=\"text-align: right;\">\n",
       "      <th></th>\n",
       "      <th>col_a</th>\n",
       "      <th>col_b_1</th>\n",
       "    </tr>\n",
       "  </thead>\n",
       "  <tbody>\n",
       "    <tr>\n",
       "      <th>0</th>\n",
       "      <td>ast1</td>\n",
       "      <td>(text1, text2)</td>\n",
       "    </tr>\n",
       "    <tr>\n",
       "      <th>1</th>\n",
       "      <td>ast1</td>\n",
       "      <td>(text1, text3)</td>\n",
       "    </tr>\n",
       "    <tr>\n",
       "      <th>2</th>\n",
       "      <td>ast1</td>\n",
       "      <td>(text2, text3)</td>\n",
       "    </tr>\n",
       "    <tr>\n",
       "      <th>3</th>\n",
       "      <td>ast2</td>\n",
       "      <td>(mext1, mext2)</td>\n",
       "    </tr>\n",
       "    <tr>\n",
       "      <th>4</th>\n",
       "      <td>ast2</td>\n",
       "      <td>(mext1, mext3)</td>\n",
       "    </tr>\n",
       "    <tr>\n",
       "      <th>5</th>\n",
       "      <td>ast2</td>\n",
       "      <td>(mext2, mext3)</td>\n",
       "    </tr>\n",
       "    <tr>\n",
       "      <th>6</th>\n",
       "      <td>ast3</td>\n",
       "      <td>(cext1, cext2)</td>\n",
       "    </tr>\n",
       "  </tbody>\n",
       "</table>\n",
       "</div>"
      ],
      "text/plain": [
       "  col_a         col_b_1\n",
       "0  ast1  (text1, text2)\n",
       "1  ast1  (text1, text3)\n",
       "2  ast1  (text2, text3)\n",
       "3  ast2  (mext1, mext2)\n",
       "4  ast2  (mext1, mext3)\n",
       "5  ast2  (mext2, mext3)\n",
       "6  ast3  (cext1, cext2)"
      ]
     },
     "execution_count": 14,
     "metadata": {},
     "output_type": "execute_result"
    }
   ],
   "source": [
    "result"
   ]
  },
  {
   "cell_type": "code",
   "execution_count": 1,
   "metadata": {
    "collapsed": false
   },
   "outputs": [
    {
     "name": "stderr",
     "output_type": "stream",
     "text": [
      "C:\\Program Files (x86)\\Anaconda2\\lib\\site-packages\\matplotlib\\__init__.py:878: UserWarning: axes.color_cycle is deprecated and replaced with axes.prop_cycle; please use the latter.\n",
      "  warnings.warn(self.msg_depr % (key, alt_key))\n"
     ]
    },
    {
     "data": {
      "text/html": [
       "<div>\n",
       "<table border=\"1\" class=\"dataframe\">\n",
       "  <thead>\n",
       "    <tr style=\"text-align: right;\">\n",
       "      <th></th>\n",
       "      <th>a</th>\n",
       "      <th>b</th>\n",
       "      <th>c</th>\n",
       "    </tr>\n",
       "  </thead>\n",
       "  <tbody>\n",
       "    <tr>\n",
       "      <th>0</th>\n",
       "      <td>-1.118029</td>\n",
       "      <td>0.611783</td>\n",
       "      <td>-1.183978</td>\n",
       "    </tr>\n",
       "    <tr>\n",
       "      <th>1</th>\n",
       "      <td>0.932117</td>\n",
       "      <td>0.958711</td>\n",
       "      <td>-1.789937</td>\n",
       "    </tr>\n",
       "    <tr>\n",
       "      <th>2</th>\n",
       "      <td>0.420203</td>\n",
       "      <td>-0.624701</td>\n",
       "      <td>-0.046662</td>\n",
       "    </tr>\n",
       "    <tr>\n",
       "      <th>3</th>\n",
       "      <td>0.734571</td>\n",
       "      <td>-0.065408</td>\n",
       "      <td>0.100862</td>\n",
       "    </tr>\n",
       "    <tr>\n",
       "      <th>4</th>\n",
       "      <td>-0.603107</td>\n",
       "      <td>2.195281</td>\n",
       "      <td>0.141260</td>\n",
       "    </tr>\n",
       "  </tbody>\n",
       "</table>\n",
       "</div>"
      ],
      "text/plain": [
       "          a         b         c\n",
       "0 -1.118029  0.611783 -1.183978\n",
       "1  0.932117  0.958711 -1.789937\n",
       "2  0.420203 -0.624701 -0.046662\n",
       "3  0.734571 -0.065408  0.100862\n",
       "4 -0.603107  2.195281  0.141260"
      ]
     },
     "execution_count": 1,
     "metadata": {},
     "output_type": "execute_result"
    }
   ],
   "source": [
    "import pandas as pd\n",
    "import numpy as np\n",
    "import matplotlib.pyplot as plt\n",
    "%matplotlib inline\n",
    "df4 = pd.DataFrame({'a': np.random.randn(1000) + 1, \n",
    "                    'b': np.random.randn(1000),\n",
    "                    'c': np.random.randn(1000) - 1}, \n",
    "                   columns=['a', 'b', 'c'])\n",
    "df4.head()"
   ]
  },
  {
   "cell_type": "code",
   "execution_count": 2,
   "metadata": {
    "collapsed": false
   },
   "outputs": [
    {
     "data": {
      "text/plain": [
       "<matplotlib.text.Text at 0x9a7fed0>"
      ]
     },
     "execution_count": 2,
     "metadata": {},
     "output_type": "execute_result"
    },
    {
     "data": {
      "image/png": "[encoded data removed]",
      "text/plain": [
       "<matplotlib.figure.Figure at 0x94a7ad0>"
      ]
     },
     "metadata": {},
     "output_type": "display_data"
    }
   ],
   "source": [
    "df4['a'].plot.hist(alpha=0.5,bins=20)\n",
    "plt.title(u'方式')"
   ]
  },
  {
   "cell_type": "code",
   "execution_count": 12,
   "metadata": {
    "collapsed": false
   },
   "outputs": [
    {
     "data": {
      "text/plain": [
       "<matplotlib.axes._subplots.AxesSubplot at 0xa820f70>"
      ]
     },
     "execution_count": 12,
     "metadata": {},
     "output_type": "execute_result"
    },
    {
     "data": {
      "image/png": "[encoded data removed]",
      "text/plain": [
       "<matplotlib.figure.Figure at 0x9e77910>"
      ]
     },
     "metadata": {},
     "output_type": "display_data"
    }
   ],
   "source": [
    "df4['a'].plot.hist(alpha=0.5,bins=20,aa=True)"
   ]
  },
  {
   "cell_type": "code",
   "execution_count": 1,
   "metadata": {
    "collapsed": false
   },
   "outputs": [
    {
     "name": "stderr",
     "output_type": "stream",
     "text": [
      "C:\\Program Files (x86)\\Anaconda2\\lib\\site-packages\\matplotlib\\__init__.py:878: UserWarning: axes.color_cycle is deprecated and replaced with axes.prop_cycle; please use the latter.\n",
      "  warnings.warn(self.msg_depr % (key, alt_key))\n"
     ]
    },
    {
     "data": {
      "text/html": [
       "<div>\n",
       "<table border=\"1\" class=\"dataframe\">\n",
       "  <thead>\n",
       "    <tr style=\"text-align: right;\">\n",
       "      <th></th>\n",
       "      <th>a</th>\n",
       "    </tr>\n",
       "  </thead>\n",
       "  <tbody>\n",
       "    <tr>\n",
       "      <th>0</th>\n",
       "      <td>1</td>\n",
       "    </tr>\n",
       "    <tr>\n",
       "      <th>1</th>\n",
       "      <td>2</td>\n",
       "    </tr>\n",
       "    <tr>\n",
       "      <th>2</th>\n",
       "      <td>3</td>\n",
       "    </tr>\n",
       "    <tr>\n",
       "      <th>3</th>\n",
       "      <td>4</td>\n",
       "    </tr>\n",
       "    <tr>\n",
       "      <th>4</th>\n",
       "      <td>5</td>\n",
       "    </tr>\n",
       "  </tbody>\n",
       "</table>\n",
       "</div>"
      ],
      "text/plain": [
       "   a\n",
       "0  1\n",
       "1  2\n",
       "2  3\n",
       "3  4\n",
       "4  5"
      ]
     },
     "execution_count": 1,
     "metadata": {},
     "output_type": "execute_result"
    }
   ],
   "source": [
    "import pandas as pd\n",
    "import numpy as np\n",
    "import matplotlib.pyplot as plt\n",
    "%matplotlib inline\n",
    "df3 = pd.DataFrame({'a': [1,2,3,4,5,6,7,6,3,4,5,6,6]} ,\n",
    "\n",
    "                   columns=['a'])\n",
    "df3.head()"
   ]
  },
  {
   "cell_type": "code",
   "execution_count": 55,
   "metadata": {
    "collapsed": false
   },
   "outputs": [
    {
     "data": {
      "text/plain": [
       "<matplotlib.axes._subplots.AxesSubplot at 0xac51510>"
      ]
     },
     "execution_count": 55,
     "metadata": {},
     "output_type": "execute_result"
    },
    {
     "data": {
      "image/png": "[encoded data removed]",
      "text/plain": [
       "<matplotlib.figure.Figure at 0xacac130>"
      ]
     },
     "metadata": {},
     "output_type": "display_data"
    }
   ],
   "source": [
    "df3['a'].plot.hist(alpha=0.5,bins=15)"
   ]
  },
  {
   "cell_type": "markdown",
   "metadata": {},
   "source": [
    "# 增加子图3中方法"
   ]
  },
  {
   "cell_type": "code",
   "execution_count": 19,
   "metadata": {
    "collapsed": false
   },
   "outputs": [
    {
     "data": {
      "text/plain": [
       "<matplotlib.axes._subplots.AxesSubplot at 0xc370bd0>"
      ]
     },
     "execution_count": 19,
     "metadata": {},
     "output_type": "execute_result"
    },
    {
     "data": {
      "image/png": "[encoded data removed]",
      "text/plain": [
       "<matplotlib.figure.Figure at 0xd07d1f0>"
      ]
     },
     "metadata": {},
     "output_type": "display_data"
    }
   ],
   "source": [
    "plt.subplot(2,3,1)\n",
    "plt.subplot(2,3,2)\n",
    "plt.subplot(2,3,3)\n",
    "plt.subplot(2,3,6)"
   ]
  },
  {
   "cell_type": "code",
   "execution_count": 15,
   "metadata": {
    "collapsed": false
   },
   "outputs": [
    {
     "data": {
      "image/png": "[encoded data removed]",
      "text/plain": [
       "<matplotlib.figure.Figure at 0xc0d4e30>"
      ]
     },
     "metadata": {},
     "output_type": "display_data"
    }
   ],
   "source": [
    "plt.subplot2grid((2,3),(0,0))\n",
    "plt.plot([2,4,5])\n",
    "plt.title('dfsd')\n",
    "plt.subplot2grid((2,3),(0,1))\n",
    "plt.plot([2,4,5])\n",
    "plt.title('dfsd')\n",
    "plt.subplot2grid((2,3),(0,2))\n",
    "plt.plot([2,4,5])\n",
    "plt.title('dfsd')\n",
    "plt.subplot2grid((2,3),(1,0),colspan=3)\n",
    "plt.plot([2,4,5])\n",
    "plt.title(u'df')\n",
    "plt.tight_layout()"
   ]
  },
  {
   "cell_type": "code",
   "execution_count": 4,
   "metadata": {
    "collapsed": false
   },
   "outputs": [
    {
     "data": {
      "text/plain": [
       "<folium.plugins.heat_map.HeatMap at 0x6e06290>"
      ]
     },
     "execution_count": 4,
     "metadata": {},
     "output_type": "execute_result"
    }
   ],
   "source": [
    "import folium\n",
    "from folium.plugins import HeatMap\n",
    "import pandas as pd\n",
    "import numpy as np\n",
    "import matplotlib.pyplot as plt\n",
    "%matplotlib inline\n",
    "\n",
    "data = (np.random.normal(size=(100, 3)) *\n",
    "        np.array([[1, 1, 1]]) +\n",
    "        np.array([[31.31, 120.63, 1]])).tolist()\n",
    "\n",
    "map_osm = folium.Map(location=[31.31,120.63],\n",
    "                     tiles='Stamen Toner',\n",
    "                     zoom_start=7)\n",
    "\n",
    "HeatMap(data).add_to(map_osm)\n"
   ]
  },
  {
   "cell_type": "code",
   "execution_count": 5,
   "metadata": {
    "collapsed": false
   },
   "outputs": [],
   "source": [
    "map_osm.save('./index.html')"
   ]
  },
  {
   "cell_type": "code",
   "execution_count": 3,
   "metadata": {
    "collapsed": false
   },
   "outputs": [],
   "source": [
    "# import numpy as np\n",
    "# import os\n",
    "# import folium\n",
    "# data = (np.random.normal(size=(100, 3)) *\n",
    "#         np.array([[1, 1, 1]]) +\n",
    "#         np.array([[48, 5, 1]])).tolist()\n",
    "\n",
    "# from folium.plugins import HeatMap\n",
    "\n",
    "# m = folium.Map([48., 5.], tiles='stamentoner', zoom_start=6)\n",
    "\n",
    "# HeatMap(data).add_to(m)\n",
    "\n",
    "# m.save('Heatmap.html')\n",
    "\n",
    "# m"
   ]
  },
  {
   "cell_type": "code",
   "execution_count": null,
   "metadata": {
    "collapsed": false
   },
   "outputs": [],
   "source": [
    "import bokeh\n",
    "from bokeh.io import show\n",
    "from bokeh.models import (\n",
    "    ColumnDataSource,\n",
    "    HoverTool,\n",
    "    LogColorMapper\n",
    ")\n",
    "from bokeh.palettes import Viridis6 as palette\n",
    "from bokeh.plotting import figure\n",
    "\n",
    "from bokeh.sampledata.us_counties import data as counties\n",
    "from bokeh.sampledata.unemployment import data as unemployment\n",
    "\n",
    "palette.reverse()\n",
    "\n",
    "counties = {\n",
    "    code: county for code, county in counties.items() if county[\"state\"] == \"tx\"\n",
    "}\n",
    "\n",
    "county_xs = [county[\"lons\"] for county in counties.values()]\n",
    "county_ys = [county[\"lats\"] for county in counties.values()]\n",
    "\n",
    "county_names = [county['name'] for county in counties.values()]\n",
    "county_rates = [unemployment[county_id] for county_id in counties]\n",
    "color_mapper = LogColorMapper(palette=palette)\n",
    "\n",
    "source = ColumnDataSource(data=dict(\n",
    "    x=county_xs,\n",
    "    y=county_ys,\n",
    "    name=county_names,\n",
    "    rate=county_rates,\n",
    "))\n",
    "\n",
    "TOOLS = \"pan,wheel_zoom,box_zoom,reset,hover,save\"\n",
    "\n",
    "p = figure(\n",
    "    title=\"Texas Unemployment, 2009\", tools=TOOLS,\n",
    "    x_axis_location=None, y_axis_location=None\n",
    ")\n",
    "p.grid.grid_line_color = None\n",
    "\n",
    "p.patches('x', 'y', source=source,\n",
    "          fill_color={'field': 'rate', 'transform': color_mapper},\n",
    "          fill_alpha=0.7, line_color=\"white\", line_width=0.5)\n",
    "\n",
    "hover = p.select_one(HoverTool)\n",
    "hover.point_policy = \"follow_mouse\"\n",
    "hover.tooltips = [\n",
    "    (\"Name\", \"@name\"),\n",
    "    (\"Unemployment rate)\", \"@rate%\"),\n",
    "    (\"(Long, Lat)\", \"($x, $y)\"),\n",
    "]\n",
    "\n",
    "show(p)"
   ]
  },
  {
   "cell_type": "code",
   "execution_count": null,
   "metadata": {
    "collapsed": false
   },
   "outputs": [
    {
     "name": "stdout",
     "output_type": "stream",
     "text": [
      "Using data directory: C:\\Users\\Administrator\\.bokeh\\data\n",
      "Downloading: CGM.csv (1589982 bytes)\n",
      "     65536 [  4.12%]"
     ]
    }
   ],
   "source": [
    "import bokeh\n",
    "bokeh.sampledata.download()  #将sample解析到本机"
   ]
  },
  {
   "cell_type": "code",
   "execution_count": null,
   "metadata": {
    "collapsed": true
   },
   "outputs": [],
   "source": [
    "import pandas as pd\n",
    "df=pd.DataFrame({'time':['08:35','09:35','09:45','10:10'],\n",
    "                 'from':['SHH','SZH','WXH','ZJH'],\n",
    "                 'to':['NJH','NJH','NJH','NJH']})\n",
    "df"
   ]
  },
  {
   "cell_type": "code",
   "execution_count": null,
   "metadata": {
    "collapsed": true
   },
   "outputs": [],
   "source": [
    "df = df[df['time'] == current_time]\n",
    "\n",
    "for row in df.itertuples():\n",
    "    print(\"Time is reached. train from {} to {}\".format(row[1], row[3]))"
   ]
  }
 ],
 "metadata": {
  "anaconda-cloud": {},
  "kernelspec": {
   "display_name": "Python [conda root]",
   "language": "python",
   "name": "conda-root-py"
  },
  "language_info": {
   "codemirror_mode": {
    "name": "ipython",
    "version": 2
   },
   "file_extension": ".py",
   "mimetype": "text/x-python",
   "name": "python",
   "nbconvert_exporter": "python",
   "pygments_lexer": "ipython2",
   "version": "2.7.12"
  }
 },
 "nbformat": 4,
 "nbformat_minor": 1
}
